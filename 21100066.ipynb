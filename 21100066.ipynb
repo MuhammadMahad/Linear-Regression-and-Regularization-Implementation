{
  "nbformat": 4,
  "nbformat_minor": 0,
  "metadata": {
    "kernelspec": {
      "display_name": "Python 3",
      "language": "python",
      "name": "python3"
    },
    "language_info": {
      "codemirror_mode": {
        "name": "ipython",
        "version": 3
      },
      "file_extension": ".py",
      "mimetype": "text/x-python",
      "name": "python",
      "nbconvert_exporter": "python",
      "pygments_lexer": "ipython3",
      "version": "3.7.5"
    },
    "colab": {
      "name": "21100066.ipynb",
      "provenance": [],
      "collapsed_sections": [],
      "toc_visible": true,
      "include_colab_link": true
    }
  },
  "cells": [
    {
      "cell_type": "markdown",
      "metadata": {
        "id": "view-in-github",
        "colab_type": "text"
      },
      "source": [
        "<a href=\"https://colab.research.google.com/github/MuhammadMahad/ML-assignment-2-Linear-Regression-and-Regularization-Implementation/blob/main/21100066.ipynb\" target=\"_parent\"><img src=\"https://colab.research.google.com/assets/colab-badge.svg\" alt=\"Open In Colab\"/></a>"
      ]
    },
    {
      "cell_type": "markdown",
      "metadata": {
        "id": "IZHsMDS5Sq1O"
      },
      "source": [
        "# Programming Assignment 2: Linear Regression\n",
        "\n",
        "## Instructions\n",
        "\n",
        "- The aim of this assignment is to give you a hands-on with a real-life machine learning application.\n",
        "- Use separate training, and testing data as discussed in class.\n",
        "- You can only use Python programming language and Jupyter Notebooks.\n",
        "- There are three parts of this assignment. In parts 1 & 2, you can only use **numpy, scipy, pandas, matplotlib and are not allowed to use NLTK, scikit-learn or any other machine learning toolkit**. However, you have to use **scikit-learn** in part 3.\n",
        "- Carefully read the submission instructions, plagiarism and late days policy below.\n",
        "- Deadline to submit this assignment is: **Friday, 30th October 2020**.\n",
        "\n",
        "## Submission Instructions\n",
        "\n",
        "Submit your code both as notebook file (.ipynb) and python script (.py) on LMS. The name of both files should be your roll number. If you don’t know how to save .ipynb as .py [see this](https://i.stack.imgur.com/L1rQH.png). **Failing to submit any one of them will result in the reduction of marks**.\n",
        "\n",
        "## Plagiarism Policy\n",
        "\n",
        "The code MUST be done independently. Any plagiarism or cheating of work from others or the internet will be immediately referred to the DC. If you are confused about what constitutes plagiarism, it is YOUR responsibility to consult with the instructor or the TA in a timely manner. No “after the fact” negotiations will be possible. The only way to guarantee that you do not lose marks is “DO NOT LOOK AT ANYONE ELSE'S CODE NOR DISCUSS IT WITH THEM”.\n",
        "\n",
        "## Late Days Policy\n",
        "\n",
        "The deadline of the assignment is final. However, in order to accommodate all the 11th hour issues there is a late submission policy i.e. you can submit your assignment within 3 days after the deadline with 25% deduction each day.\n",
        "\n",
        "\n",
        "## Introduction\n",
        "\n",
        "In this exercise, you will implement linear regression and get to see it work on data. After completing this assignment, you will know:\n",
        "- How to implement linear regression from scratch.\n",
        "- How to estimate linear regression parameters using gradient descent.\n",
        "- How to make predictions on new data using learned parameters.\n",
        "\n",
        "Let's start with the necessary imports."
      ]
    },
    {
      "cell_type": "code",
      "metadata": {
        "id": "vKN3x53OZQcu",
        "outputId": "4d8769b3-ec1f-4abf-b5fb-087985b4a004",
        "colab": {
          "base_uri": "https://localhost:8080/",
          "height": 34
        }
      },
      "source": [
        "from google.colab import drive\n",
        "drive.mount('/content/drive')"
      ],
      "execution_count": 2,
      "outputs": [
        {
          "output_type": "stream",
          "text": [
            "Mounted at /content/drive\n"
          ],
          "name": "stdout"
        }
      ]
    },
    {
      "cell_type": "code",
      "metadata": {
        "id": "KWRXGNx3Z63G",
        "outputId": "259854b5-7c20-4453-d875-f1cac0ac6457",
        "colab": {
          "base_uri": "https://localhost:8080/",
          "height": 34
        }
      },
      "source": [
        "%cd /content/drive/My Drive/Colab Notebooks/Data/Assignment 2 data\n",
        "# !ls\n",
        "# df = pd.read_csv(\"data_example.csv\")"
      ],
      "execution_count": 3,
      "outputs": [
        {
          "output_type": "stream",
          "text": [
            "/content/drive/My Drive/Colab Notebooks/Data/Assignment 2 data\n"
          ],
          "name": "stdout"
        }
      ]
    },
    {
      "cell_type": "code",
      "metadata": {
        "id": "34LFqRNJSq1Q"
      },
      "source": [
        "import os\n",
        "import numpy as np\n",
        "from matplotlib import pyplot\n",
        "%matplotlib inline"
      ],
      "execution_count": 4,
      "outputs": []
    },
    {
      "cell_type": "markdown",
      "metadata": {
        "id": "0rXzI8M0Sq1V"
      },
      "source": [
        "## 1. Linear Regression with one variable\n",
        "\n",
        "Linear regression assumes a linear relationship between the input variables (X) and the single output variable (Y). More specifically, that output (Y) can be calculated from a linear combination of the input variables (X). When there is a single input variable, the method is referred to as a simple linear regression.\n",
        "\n",
        "Now you will implement simple linear regression to predict profits for a food truck. Suppose you are the CEO of a restaurant franchise and are considering different cities for opening a new outlet. The chain already has trucks in various cities and you have data for profits and populations from the cities. You would like to use this data to help you select which city to expand to next."
      ]
    },
    {
      "cell_type": "markdown",
      "metadata": {
        "id": "0bjoVam9Sq1W"
      },
      "source": [
        "### 1.1 Load the dataset\n",
        "\n",
        "The file `Data/ex1data1.txt` contains the dataset for our linear regression problem. The first column is the population of a city (in 10,000s) and the second column is the profit of a food truck in that city (in $10,000s). A negative value for profit indicates a loss. \n",
        "\n",
        "We provide you with the code needed to load this data. The dataset is loaded from the data file into the variables `X` and `Y`."
      ]
    },
    {
      "cell_type": "code",
      "metadata": {
        "id": "Q4dDSEviSq1X",
        "outputId": "fe08f0ad-59d1-4417-9427-47c65c217df3",
        "colab": {
          "base_uri": "https://localhost:8080/",
          "height": 544
        }
      },
      "source": [
        "data = np.loadtxt(os.path.join('/content/drive/My Drive/Colab Notebooks/Data/Assignment 2 data', 'ex1data.txt'), delimiter=',')\n",
        "X, Y = data[:, 0], data[:, 1]\n",
        "display(X)\n",
        "display(Y)"
      ],
      "execution_count": 27,
      "outputs": [
        {
          "output_type": "display_data",
          "data": {
            "text/plain": [
              "array([ 6.1101,  5.5277,  8.5186,  7.0032,  5.8598,  8.3829,  7.4764,\n",
              "        8.5781,  6.4862,  5.0546,  5.7107, 14.164 ,  5.734 ,  8.4084,\n",
              "        5.6407,  5.3794,  6.3654,  5.1301,  6.4296,  7.0708,  6.1891,\n",
              "       20.27  ,  5.4901,  6.3261,  5.5649, 18.945 , 12.828 , 10.957 ,\n",
              "       13.176 , 22.203 ,  5.2524,  6.5894,  9.2482,  5.8918,  8.2111,\n",
              "        7.9334,  8.0959,  5.6063, 12.836 ,  6.3534,  5.4069,  6.8825,\n",
              "       11.708 ,  5.7737,  7.8247,  7.0931,  5.0702,  5.8014, 11.7   ,\n",
              "        5.5416,  7.5402,  5.3077,  7.4239,  7.6031,  6.3328,  6.3589,\n",
              "        6.2742,  5.6397,  9.3102,  9.4536,  8.8254,  5.1793, 21.279 ,\n",
              "       14.908 , 18.959 ,  7.2182,  8.2951, 10.236 ,  5.4994, 20.341 ,\n",
              "       10.136 ,  7.3345,  6.0062,  7.2259,  5.0269,  6.5479,  7.5386,\n",
              "        5.0365, 10.274 ,  5.1077,  5.7292,  5.1884,  6.3557,  9.7687,\n",
              "        6.5159,  8.5172,  9.1802,  6.002 ,  5.5204,  5.0594,  5.7077,\n",
              "        7.6366,  5.8707,  5.3054,  8.2934, 13.394 ,  5.4369])"
            ]
          },
          "metadata": {
            "tags": []
          }
        },
        {
          "output_type": "display_data",
          "data": {
            "text/plain": [
              "array([17.592  ,  9.1302 , 13.662  , 11.854  ,  6.8233 , 11.886  ,\n",
              "        4.3483 , 12.     ,  6.5987 ,  3.8166 ,  3.2522 , 15.505  ,\n",
              "        3.1551 ,  7.2258 ,  0.71618,  3.5129 ,  5.3048 ,  0.56077,\n",
              "        3.6518 ,  5.3893 ,  3.1386 , 21.767  ,  4.263  ,  5.1875 ,\n",
              "        3.0825 , 22.638  , 13.501  ,  7.0467 , 14.692  , 24.147  ,\n",
              "       -1.22   ,  5.9966 , 12.134  ,  1.8495 ,  6.5426 ,  4.5623 ,\n",
              "        4.1164 ,  3.3928 , 10.117  ,  5.4974 ,  0.55657,  3.9115 ,\n",
              "        5.3854 ,  2.4406 ,  6.7318 ,  1.0463 ,  5.1337 ,  1.844  ,\n",
              "        8.0043 ,  1.0179 ,  6.7504 ,  1.8396 ,  4.2885 ,  4.9981 ,\n",
              "        1.4233 , -1.4211 ,  2.4756 ,  4.6042 ,  3.9624 ,  5.4141 ,\n",
              "        5.1694 , -0.74279, 17.929  , 12.054  , 17.054  ,  4.8852 ,\n",
              "        5.7442 ,  7.7754 ,  1.0173 , 20.992  ,  6.6799 ,  4.0259 ,\n",
              "        1.2784 ,  3.3411 , -2.6807 ,  0.29678,  3.8845 ,  5.7014 ,\n",
              "        6.7526 ,  2.0576 ,  0.47953,  0.20421,  0.67861,  7.5435 ,\n",
              "        5.3436 ,  4.2415 ,  6.7981 ,  0.92695,  0.152  ,  2.8214 ,\n",
              "        1.8451 ,  4.2959 ,  7.2029 ,  1.9869 ,  0.14454,  9.0551 ,\n",
              "        0.61705])"
            ]
          },
          "metadata": {
            "tags": []
          }
        }
      ]
    },
    {
      "cell_type": "markdown",
      "metadata": {
        "id": "4A_HVD8ZSq1d"
      },
      "source": [
        "### 1.2 Plot the dataset\n",
        "Before starting on any task, it is often useful to understand the data by visualizing it. For this dataset, you can use a scatter plot to visualize the data, since it has only two properties to plot (profit and population). Execute the next cell to visualize the data."
      ]
    },
    {
      "cell_type": "code",
      "metadata": {
        "id": "EJmHittMSq1e",
        "outputId": "c354c843-84d2-4b66-bd17-281bc54c71a4",
        "colab": {
          "base_uri": "https://localhost:8080/",
          "height": 297
        }
      },
      "source": [
        "pyplot.plot(X, Y, 'ro', ms=10, mec='k')\n",
        "pyplot.ylabel('Profit in $10,000')\n",
        "pyplot.xlabel('Population of City in 10,000s')"
      ],
      "execution_count": 28,
      "outputs": [
        {
          "output_type": "execute_result",
          "data": {
            "text/plain": [
              "Text(0.5, 0, 'Population of City in 10,000s')"
            ]
          },
          "metadata": {
            "tags": []
          },
          "execution_count": 28
        },
        {
          "output_type": "display_data",
          "data": {
            "image/png": "[encoded data removed]",
            "text/plain": [
              "<Figure size 432x288 with 1 Axes>"
            ]
          },
          "metadata": {
            "tags": [],
            "needs_background": "light"
          }
        }
      ]
    },
    {
      "cell_type": "markdown",
      "metadata": {
        "id": "4036fFsuSq1j"
      },
      "source": [
        "### 1.3 Learn the parameters\n",
        "In this part, you will fit the linear regression parameters $\\theta$ to the food truck dataset using gradient descent.\n",
        "\n",
        "The objective of linear regression is to minimize the cost function\n",
        "\n",
        "$$ J(\\theta) = \\frac{1}{2m} \\sum_{i=1}^m \\left( h_{\\theta}(x^{(i)}) - y^{(i)}\\right)^2 ------ (i)$$ \n",
        "\n",
        "where the hypothesis $h_\\theta(x)$ is given by the linear model\n",
        "$$ h_\\theta(x) = \\theta_0 + \\theta_1 x ------ (ii)$$\n",
        "\n",
        "The parameters of your model are the $\\theta_j$ values. These are\n",
        "the values you will adjust to minimize cost $J(\\theta)$. One way to do this is to\n",
        "use the batch gradient descent algorithm. In batch gradient descent, each\n",
        "iteration performs the update\n",
        "\n",
        "$$ \\theta_0 = \\theta_0 - \\alpha \\frac{1}{m} \\sum_{i=1}^m \\left( h_\\theta(x^{(i)}) - y^{(i)}\\right) ------ (iii)$$\n",
        "\n",
        "$$ \\theta_1 = \\theta_1 - \\alpha \\frac{1}{m} \\sum_{i=1}^m \\left( h_\\theta(x^{(i)}) - y^{(i)}\\right)x^{(i)} ------ (iv)$$\n",
        "\n",
        "With each step of gradient descent, your parameters $\\theta_j$ come closer to the optimal values that will achieve the lowest cost J($\\theta$).\n",
        "\n",
        "Let's start by implementing the hypothesis $h_\\theta(x)$."
      ]
    },
    {
      "cell_type": "code",
      "metadata": {
        "id": "sCzJbR2vSq1k"
      },
      "source": [
        "### GRADED FUNCTION ###\n",
        "def predict(x, theta0, theta1):\n",
        "    '''\n",
        "    Calculates the hypothesis for any input sample `x` given the parameters `theta`.\n",
        "    \n",
        "    Arguments\n",
        "    ---------\n",
        "    x : float\n",
        "        The input sample.\n",
        "    \n",
        "    theta0 : float\n",
        "        The parameter for the regression function.\n",
        "        \n",
        "    theta1 : float\n",
        "        The parameter for the regression function.\n",
        "    \n",
        "    Returns\n",
        "    -------\n",
        "    h_x : float\n",
        "        The hypothesis for input sample.\n",
        "    \n",
        "    Hint(s)\n",
        "    -------\n",
        "    Compute equation (ii).\n",
        "    '''\n",
        "    # You need to return the following variable(s) correctly\n",
        "    h_x = 0.0\n",
        "    \n",
        "    ### START CODE HERE ### (≈ 1 line of code)\n",
        "    h_x = theta0 + (theta1 * x)\n",
        "    \n",
        "    ### END CODE HERE ###\n",
        "    \n",
        "    return h_x"
      ],
      "execution_count": 29,
      "outputs": []
    },
    {
      "cell_type": "markdown",
      "metadata": {
        "id": "51QB3nASSq1p"
      },
      "source": [
        "Execute the next cell to verify your implementation."
      ]
    },
    {
      "cell_type": "code",
      "metadata": {
        "id": "mCJSWcSsSq1q",
        "outputId": "a98b4b03-e69e-4fff-9447-86996fae4209",
        "colab": {
          "base_uri": "https://localhost:8080/",
          "height": 85
        }
      },
      "source": [
        "h_x = predict(x=2, theta0=1.0, theta1=1.0)\n",
        "print('With x = 2, theta0 = 1.0, theta1 = 1.0\\nPredicted Hypothesis h(x) = %.2f' % h_x)\n",
        "print(\"Expected hypothesis h(x) = 3.00\\n\")"
      ],
      "execution_count": 30,
      "outputs": [
        {
          "output_type": "stream",
          "text": [
            "With x = 2, theta0 = 1.0, theta1 = 1.0\n",
            "Predicted Hypothesis h(x) = 3.00\n",
            "Expected hypothesis h(x) = 3.00\n",
            "\n"
          ],
          "name": "stdout"
        }
      ]
    },
    {
      "cell_type": "markdown",
      "metadata": {
        "id": "E8tkq1BHSq1v"
      },
      "source": [
        "As you perform gradient descent to learn minimize the cost function  $J(\\theta)$, it is helpful to monitor the convergence by computing the cost. In this section, you will implement a function to calculate  $J(\\theta)$ so you can check the convergence of your gradient descent implementation."
      ]
    },
    {
      "cell_type": "code",
      "metadata": {
        "id": "LprmcAw3Sq1v"
      },
      "source": [
        "### GRADED FUNCTION ###\n",
        "def computeCost(X, Y, theta0, theta1):\n",
        "    '''\n",
        "    Computes cost for linear regression. Computes the cost of using `theta` as the\n",
        "    parameter for linear regression to fit the data points in `X` and `Y`.\n",
        "    \n",
        "    Arguments\n",
        "    ---------\n",
        "    X : array\n",
        "        The input dataset of shape (m, ), where m is the number of training examples.\n",
        "    \n",
        "    Y : array\n",
        "        The values of the function at each data point. This is a vector of\n",
        "        shape (m, ), where m is the number of training examples.\n",
        "    \n",
        "    theta0 : float\n",
        "        The parameter for the regression function.\n",
        "        \n",
        "    theta1 : float\n",
        "        The parameter for the regression function.\n",
        "    \n",
        "    Returns\n",
        "    -------\n",
        "    J : float\n",
        "        The value of the regression cost function.\n",
        "    \n",
        "    Hint(s)\n",
        "    -------\n",
        "    Compute equation (i).\n",
        "    '''\n",
        "    # initialize some useful values\n",
        "    m = Y.size  # number of training examples\n",
        "    \n",
        "    # You need to return the following variable(s) correctly\n",
        "    J = 0\n",
        "        \n",
        "    ### START CODE HERE ### (≈ 3-4 lines of code)\n",
        "    sum = 0\n",
        "    for i in range(0, m):\n",
        "      sum +=((theta0 + (theta1 * X[i])) - Y[i] ) ** 2\n",
        "        \n",
        "    J = sum / (2 * m)\n",
        "    \n",
        "    ### END CODE HERE ###\n",
        "    \n",
        "    return J"
      ],
      "execution_count": 31,
      "outputs": []
    },
    {
      "cell_type": "markdown",
      "metadata": {
        "id": "XWx0ZDrHSq1z"
      },
      "source": [
        "Execute the next cell to verify your implementation."
      ]
    },
    {
      "cell_type": "code",
      "metadata": {
        "id": "KKghFdTVSq10",
        "outputId": "4f2313cf-3c1b-472c-f67d-606497cd71d0",
        "colab": {
          "base_uri": "https://localhost:8080/",
          "height": 85
        }
      },
      "source": [
        "J = computeCost(X, Y, theta0=1.0, theta1=1.0)\n",
        "print('With theta0 = 1.0, theta1 = 1.0\\nPredicted cost J = %.2f' % J)\n",
        "print(\"Expected cost J = 10.27\\n\")"
      ],
      "execution_count": 32,
      "outputs": [
        {
          "output_type": "stream",
          "text": [
            "With theta0 = 1.0, theta1 = 1.0\n",
            "Predicted cost J = 10.27\n",
            "Expected cost J = 10.27\n",
            "\n"
          ],
          "name": "stdout"
        }
      ]
    },
    {
      "cell_type": "markdown",
      "metadata": {
        "id": "bRhRmspKSq12"
      },
      "source": [
        "Next, you will complete a function which implements gradient descent. The loop structure has been written for you, and you only need to supply the updates to parameters $\\theta_j$  within each iteration (epoch). \n",
        "\n",
        "The starter code for the function `gradientDescent` calls `computeCost` on every iteration and saves the cost to a `python` list. Assuming you have implemented `gradientDescent` and `computeCost` correctly, your value of $J(\\theta)$ should never increase, and should converge to a steady value by the end of the algorithm."
      ]
    },
    {
      "cell_type": "code",
      "metadata": {
        "id": "H5bjRRjBSq13"
      },
      "source": [
        "### GRADED FUNCTION ###\n",
        "def gradientDescent(X, Y, alpha, n_epoch):\n",
        "    \"\"\"\n",
        "    Performs gradient descent to learn `theta`. Updates `theta` by taking `n_epoch`\n",
        "    gradient steps with learning rate `alpha`.\n",
        "    \n",
        "    Arguments\n",
        "    ---------\n",
        "    X : array\n",
        "        The input dataset of shape (m, ), where m is the number of training examples.\n",
        "    \n",
        "    Y : array\n",
        "        The values of the function at each data point. This is a vector of\n",
        "        shape (m, ), where m is the number of training examples.\n",
        "    \n",
        "    alpha : float\n",
        "        The learning rate.\n",
        "    \n",
        "    n_epoch : int\n",
        "        The number of iterations for gradient descent. \n",
        "    \n",
        "    Returns\n",
        "    -------\n",
        "    theta0 : float\n",
        "        The parameter for the regression function.\n",
        "        \n",
        "    theta1 : float\n",
        "        The parameter for the regression function.\n",
        "    \n",
        "    J : list\n",
        "        A python list for the values of the cost function after each iteration.\n",
        "    \n",
        "    Hint(s)\n",
        "    -------\n",
        "    Compute equation (iii) and (iv).\n",
        "\n",
        "    While debugging, it can be useful to print out the values of \n",
        "    the cost function (computeCost) here.\n",
        "    \"\"\"\n",
        "    # initialize some useful values\n",
        "    m = Y.size  # number of training examples\n",
        "    J = list()  # list to store cost\n",
        "    \n",
        "    # You need to return the following variables correctly\n",
        "    theta0 = 0.0\n",
        "    theta1 = 0.0\n",
        "    \n",
        "    for epoch in range(n_epoch):\n",
        "        ### START CODE HERE ### (≈ 5-10 lines of code)\n",
        "        sum0 = 0\n",
        "        sum1 = 0\n",
        "        for i in range(0,m):\n",
        "          sum0 += (theta0 + (theta1 * X[i])) - Y[i]\n",
        "          sum1 += ((theta0 + (theta1 * X[i])) - Y[i])*X[i]\n",
        "        \n",
        "        temp0 = theta0 - ( (alpha / m) * sum0 )\n",
        "        temp1 = theta1 - ( (alpha / m) * sum1 )\n",
        "        \n",
        "        theta0 = temp0\n",
        "        theta1 = temp1\n",
        "        \n",
        "        \n",
        "        \n",
        "        \n",
        "        \n",
        "        ### END CODE HERE ###\n",
        "\n",
        "        J.append(computeCost(X, Y, theta0, theta1))\n",
        "    return theta0, theta1, J"
      ],
      "execution_count": 33,
      "outputs": []
    },
    {
      "cell_type": "markdown",
      "metadata": {
        "id": "d57d8qiQSq16"
      },
      "source": [
        "Execute the next cell to verify your implementation."
      ]
    },
    {
      "cell_type": "code",
      "metadata": {
        "id": "TxZhREdaSq17",
        "outputId": "f31e4daa-2198-4740-fdd6-0d7b11154af5",
        "colab": {
          "base_uri": "https://localhost:8080/",
          "height": 51
        }
      },
      "source": [
        "n_epoch = 1500\n",
        "alpha = 0.01\n",
        "\n",
        "theta0, theta1, J = gradientDescent(X ,Y, alpha, n_epoch)\n",
        "print('Predicted theta0 = %.4f, theta1 = %.4f, cost = %.4f' % (theta0, theta1, J[-1]))\n",
        "print('Expected theta0 = -3.6303, theta1 = 1.1664, cost = 4.4834')"
      ],
      "execution_count": 34,
      "outputs": [
        {
          "output_type": "stream",
          "text": [
            "Predicted theta0 = -3.6303, theta1 = 1.1664, cost = 4.4834\n",
            "Expected theta0 = -3.6303, theta1 = 1.1664, cost = 4.4834\n"
          ],
          "name": "stdout"
        }
      ]
    },
    {
      "cell_type": "markdown",
      "metadata": {
        "id": "_hD9N240Sq19"
      },
      "source": [
        "### 1.4 Plot the linear fit\n",
        "\n",
        "Use your learned parameters $\\theta_j$ to plot the linear fit."
      ]
    },
    {
      "cell_type": "code",
      "metadata": {
        "id": "gALGLzBjSq1-",
        "outputId": "c237a5dc-373d-4783-f1e0-99a1c143ef8e",
        "colab": {
          "base_uri": "https://localhost:8080/",
          "height": 297
        }
      },
      "source": [
        "h_x = list()\n",
        "for x in X:\n",
        "    h_x.append(predict(x, theta0, theta1))\n",
        "pyplot.plot(X, Y, 'ro', ms=10, mec='k')\n",
        "pyplot.ylabel('Profit in $10,000')\n",
        "pyplot.xlabel('Population of City in 10,000s')\n",
        "pyplot.plot(X, h_x, '-')\n",
        "pyplot.legend(['Training data', 'Linear regression'])"
      ],
      "execution_count": 35,
      "outputs": [
        {
          "output_type": "execute_result",
          "data": {
            "text/plain": [
              "<matplotlib.legend.Legend at 0x7fe089ce36d8>"
            ]
          },
          "metadata": {
            "tags": []
          },
          "execution_count": 35
        },
        {
          "output_type": "display_data",
          "data": {
            "image/png": "[encoded data removed]",
            "text/plain": [
              "<Figure size 432x288 with 1 Axes>"
            ]
          },
          "metadata": {
            "tags": [],
            "needs_background": "light"
          }
        }
      ]
    },
    {
      "cell_type": "markdown",
      "metadata": {
        "id": "p-g3tiE_Sq2F"
      },
      "source": [
        "### 1.5 Make predictions\n",
        "\n",
        "Use your learned parameters $\\theta_j$ to make food truck profit predictions in areas with population of 40,000 and 65,000."
      ]
    },
    {
      "cell_type": "code",
      "metadata": {
        "id": "o1-PqG38Sq2F",
        "outputId": "f41d9590-1d28-4f13-8277-ceaebe09678a",
        "colab": {
          "base_uri": "https://localhost:8080/",
          "height": 51
        }
      },
      "source": [
        "print('For population = 40,000, predicted profit = $%.2f' % (predict(4, theta0, theta1)*10000))\n",
        "print('For population = 65,000, predicted profit = $%.2f' % (predict(6.5, theta0, theta1)*10000))"
      ],
      "execution_count": 36,
      "outputs": [
        {
          "output_type": "stream",
          "text": [
            "For population = 40,000, predicted profit = $10351.58\n",
            "For population = 65,000, predicted profit = $39510.64\n"
          ],
          "name": "stdout"
        }
      ]
    },
    {
      "cell_type": "markdown",
      "metadata": {
        "id": "vfBie6WOSq2J"
      },
      "source": [
        "## 2. Multivariate Linear Regression\n",
        "\n",
        "Now, you will implement multivariate linear regression (from scratch) to predict the the median price of homes in a Boston suburb during the mid-1970s. To do this, you are given with the dataset that has 404 examples in the train set and 102 examples in test set. Each example has 13 input variables (features) and one output variable (price in $10,000s). Below is the description of input variables:\n",
        "\n",
        "- Per capita crime rate.\n",
        "- The proportion of residential land zoned for lots over 25,000 square feet.\n",
        "- The proportion of non-retail business acres per town.\n",
        "- Charles River dummy variable (= 1 if tract bounds river; 0 otherwise).\n",
        "- Nitric oxides concentration (parts per 10 million).\n",
        "- The average number of rooms per dwelling.\n",
        "- The proportion of owner-occupied units built before 1940.\n",
        "- Weighted distances to five Boston employment centers.\n",
        "- Index of accessibility to radial highways.\n",
        "- Full-value property-tax rate per $10,000.\n",
        "- Pupil-teacher ratio by town.\n",
        "- 1000 * (Bk - 0.63) ** 2 where Bk is the proportion of Black people by town.\n",
        "- Percentage lower status of the population.\n",
        "\n",
        "Each one of these input features is stored using a different scale. Some features are represented by a proportion between 0 and 1, other features are ranges between 1 and 12, some are ranges between 0 and 100, and so on. This is often the case with real-world data, and understanding how to explore and clean such data is an important skill to develop.\n",
        "\n",
        "A common way to normalize features that use different scales and ranges is:\n",
        "\n",
        "- Subtract the mean value of each feature from the dataset.\n",
        "- After subtracting the mean, additionally scale (divide) the feature values by their respective standard deviations.\n",
        "\n",
        "Note: We only use examples of the train set to estimate the mean and standard deviation.\n",
        "\n",
        "You have to follow exactly the same steps as above i.e. implement hypothesis, cost function and gradient descent for multivariate linear regression to learn parameters $\\theta$ using train set. Finally, report the cost (error) using your learned parameters $\\theta$ on test set. Expected Mean Square Error on this dataset is 11.5 - 12.5 approximately. \n",
        "\n",
        "We provide you with the code needed to load this dataset. The dataset is loaded from the data files into the variables `train_X`, `train_Y`, `test_X` and `test_Y`."
      ]
    },
    {
      "cell_type": "code",
      "metadata": {
        "id": "XxqCHZMsSq2J"
      },
      "source": [
        "train_X = np.loadtxt(os.path.join('/content/drive/My Drive/Colab Notebooks/Data/Assignment 2 data', 'ex2traindata.txt'))\n",
        "train_Y = np.loadtxt(os.path.join('/content/drive/My Drive/Colab Notebooks/Data/Assignment 2 data', 'ex2trainlabels.txt'))\n",
        "test_X = np.loadtxt(os.path.join('/content/drive/My Drive/Colab Notebooks/Data/Assignment 2 data', 'ex2testdata.txt'))\n",
        "test_Y = np.loadtxt(os.path.join('/content/drive/My Drive/Colab Notebooks/Data/Assignment 2 data', 'ex2testlabels.txt'))"
      ],
      "execution_count": 5,
      "outputs": []
    },
    {
      "cell_type": "code",
      "metadata": {
        "id": "BoQxZLzOSq2M",
        "outputId": "a533132c-936a-4c71-fcfa-079bb29d763c",
        "colab": {
          "base_uri": "https://localhost:8080/",
          "height": 35
        }
      },
      "source": [
        "''' Start your code of part 2 from here, add the new code cells as per your requirement. '''"
      ],
      "execution_count": 39,
      "outputs": [
        {
          "output_type": "execute_result",
          "data": {
            "application/vnd.google.colaboratory.intrinsic+json": {
              "type": "string"
            },
            "text/plain": [
              "' Start your code of part 2 from here, add the new code cells as per your requirement. '"
            ]
          },
          "metadata": {
            "tags": []
          },
          "execution_count": 39
        }
      ]
    },
    {
      "cell_type": "code",
      "metadata": {
        "id": "nuCDIqAhbbmv",
        "outputId": "63965606-1454-48a3-9849-e03164ad2f16",
        "colab": {
          "base_uri": "https://localhost:8080/",
          "height": 459
        }
      },
      "source": [
        "def normalize(dataset):\n",
        "    for i in range(13):\n",
        "        col = dataset[:,i]\n",
        "        mean = np.mean(col)\n",
        "        std = np.std(col)\n",
        "        dataset[:,i] = (col - mean) / std\n",
        "\n",
        "normalize(train_X)\n",
        "normalize(test_X)\n",
        "\n",
        "display(train_X)\n",
        "display(test_X)\n"
      ],
      "execution_count": 6,
      "outputs": [
        {
          "output_type": "display_data",
          "data": {
            "text/plain": [
              "array([[-0.3872205 , -0.48361547, -0.16087773, ..., -0.30759583,\n",
              "        -0.10503974,  0.4166942 ],\n",
              "       [-0.37440695, -0.48361547, -0.20791668, ...,  0.32944629,\n",
              "         0.44807713,  1.15921781],\n",
              "       [-0.39864716, -0.48361547, -1.27070302, ..., -0.30759583,\n",
              "         0.433821  , -0.71503324],\n",
              "       ...,\n",
              "       [-0.12022924, -0.48361547, -0.17704737, ..., -0.03457778,\n",
              "        -0.04610018, -0.01391429],\n",
              "       [-0.39010046, -0.48361547, -0.16087773, ..., -0.30759583,\n",
              "         0.39062703,  0.11996079],\n",
              "       [-0.15653538, -0.48361547,  1.24588095, ..., -1.71818909,\n",
              "        -0.61379236, -0.22645822]])"
            ]
          },
          "metadata": {
            "tags": []
          }
        },
        {
          "output_type": "display_data",
          "data": {
            "text/plain": [
              "array([[ 2.8040301 , -0.50784934,  0.96960877, ...,  0.90513041,\n",
              "        -4.27829517,  2.51324773],\n",
              "       [-0.55530596, -0.50784934, -0.17801704, ..., -0.28485844,\n",
              "         0.3909446 ,  0.58604286],\n",
              "       [-0.56808398, -0.50784934, -0.86176938, ...,  0.90513041,\n",
              "         0.41570668, -0.38506427],\n",
              "       ...,\n",
              "       [-0.23539182, -0.50784934,  1.17955762, ..., -1.82192738,\n",
              "         0.32313459, -1.55879807],\n",
              "       [-0.5113909 , -0.50784934, -0.71849348, ..., -0.48318992,\n",
              "         0.34967446, -0.38956708],\n",
              "       [-0.03148414, -0.50784934,  1.17955762, ..., -1.82192738,\n",
              "        -1.57465677, -0.3745577 ]])"
            ]
          },
          "metadata": {
            "tags": []
          }
        }
      ]
    },
    {
      "cell_type": "code",
      "metadata": {
        "id": "onIqkz40q_SF",
        "outputId": "edf289e1-a5e2-4f81-e9c5-6c6ead3fc01b",
        "colab": {
          "base_uri": "https://localhost:8080/",
          "height": 34
        }
      },
      "source": [
        "#hypothesis\n",
        "# def predict(x, thetaj):\n",
        "#     h_x = np.array()\n",
        "\n",
        "    \n",
        "#     return h_x\n",
        "\n",
        "train_X = train_X.T\n",
        "thetaj = np.zeros(13).T\n",
        "\n",
        "h_x = np.matmul(thetaj, train_X)\n",
        "\n",
        "display(h_x.shape)\n"
      ],
      "execution_count": 13,
      "outputs": [
        {
          "output_type": "display_data",
          "data": {
            "text/plain": [
              "(404,)"
            ]
          },
          "metadata": {
            "tags": []
          }
        }
      ]
    },
    {
      "cell_type": "code",
      "metadata": {
        "id": "y9IdY6XkBqPm",
        "outputId": "ac11bbe5-55e3-46d5-cece-44755b220e39",
        "colab": {
          "base_uri": "https://localhost:8080/",
          "height": 1000
        }
      },
      "source": [
        "#cost function\n",
        "m = train_Y.size  # number of training examples\n",
        "# J = 1/2*\n",
        "sum = ( h_x - train_Y ) ** 2\n",
        "\n",
        "J = (1/(2*m)) * sum\n",
        "\n"
      ],
      "execution_count": 16,
      "outputs": [
        {
          "output_type": "display_data",
          "data": {
            "text/plain": [
              "array([0.41446782, 0.48030941, 1.96044554, 0.53544554, 0.22891089,\n",
              "       2.11100248, 3.09405941, 0.49011139, 0.52519802, 0.56678218,\n",
              "       0.4950495 , 0.49011139, 1.22803218, 0.0852599 , 0.11405941,\n",
              "       0.43278465, 0.52011139, 0.16941832, 0.23569307, 2.8872401 ,\n",
              "       0.21892327, 0.7489604 , 0.46100248, 0.14975248, 0.36189356,\n",
              "       3.09405941, 0.45623762, 0.42357673, 0.22555693, 0.23569307,\n",
              "       3.09405941, 0.70694307, 2.21446782, 0.27476485, 0.7010396 ,\n",
              "       0.73080446, 0.90892327, 0.33694307, 0.27846535, 0.09367574,\n",
              "       0.03094059, 0.4190099 , 0.66613861, 0.37470297, 0.77351485,\n",
              "       1.36415842, 0.64336634, 0.1752599 , 1.26732673, 0.86912129,\n",
              "       0.47060644, 0.44209158, 0.12876238, 0.71882426, 2.4839604 ,\n",
              "       0.25663366, 0.36189356, 0.44209158, 0.55623762, 0.08941832,\n",
              "       0.78594059, 0.36189356, 1.18935644, 1.41391089, 1.63980198,\n",
              "       0.67767327, 0.4099505 , 1.1212995 , 0.21238861, 0.58278465,\n",
              "       0.63212871, 1.23584158, 0.66040842, 1.16644802, 0.47544554,\n",
              "       0.22222772, 0.58278465, 2.61881188, 0.26381188, 0.77971535,\n",
              "       0.22222772, 3.09405941, 0.1752599 , 1.28321782, 0.505     ,\n",
              "       0.51001238, 1.38064356, 0.21564356, 0.19648515, 0.75506188,\n",
              "       2.3960396 , 0.64336634, 0.23569307, 0.32080446, 0.53030941,\n",
              "       0.36613861, 0.76118812, 0.23912129, 3.09405941, 0.40545792,\n",
              "       0.5990099 , 0.39654703, 1.33961634, 0.47060644, 0.87569307,\n",
              "       0.16941832, 1.01941832, 0.55623762, 0.49011139, 0.25308168,\n",
              "       0.24955446, 0.73683168, 0.66040842, 0.32480198, 0.20277228,\n",
              "       1.4902104 , 0.67189356, 0.52519802, 0.64902228, 0.21892327,\n",
              "       0.52011139, 0.27846535, 3.09405941, 0.47544554, 0.33287129,\n",
              "       0.26381188, 3.09405941, 0.5990099 , 0.39212871, 0.69516089,\n",
              "       0.37902228, 0.56678218, 0.25663366, 0.13644802, 0.53544554,\n",
              "       0.47060644, 0.77351485, 0.64902228, 1.01232673, 0.45149752,\n",
              "       0.4190099 , 0.13386139, 0.31683168, 0.28594059, 0.50001238,\n",
              "       0.69516089, 3.09405941, 0.28594059, 0.87569307, 0.37470297,\n",
              "       0.63212871, 0.63773515, 0.96337871, 1.77773515, 0.13644802,\n",
              "       0.50001238, 0.76118812, 1.64882426, 1.0052599 , 0.97029703,\n",
              "       0.2602104 , 0.55100248, 0.62654703, 1.22803218, 0.36613861,\n",
              "       0.62654703, 1.48163366, 0.14435644, 0.14704208, 0.5990099 ,\n",
              "       0.67189356, 0.5150495 , 0.17232673, 0.56678218, 0.43278465,\n",
              "       0.04912129, 1.13625   , 1.71267327, 0.46100248, 0.6209901 ,\n",
              "       0.34516089, 0.27476485, 1.53346535, 0.51001238, 0.75506188,\n",
              "       1.09905941, 0.52519802, 0.42357673, 1.1212995 , 0.34516089,\n",
              "       0.30506188, 0.21238861, 0.66040842, 0.58816832, 0.53030941,\n",
              "       0.60446782, 0.4950495 , 0.70694307, 1.61288366, 0.36613861,\n",
              "       0.28594059, 0.46100248, 0.24605198, 0.37470297, 0.63212871,\n",
              "       0.39212871, 0.46100248, 0.46579208, 0.70694307, 3.09405941,\n",
              "       0.38773515, 0.4099505 , 0.73683168, 0.28219059, 0.68930693,\n",
              "       2.34189356, 0.23569307, 0.24257426, 0.08732673, 0.49011139,\n",
              "       0.27108911, 0.52519802, 0.42357673, 0.67189356, 0.48030941,\n",
              "       0.70694307, 0.58816832, 0.63212871, 0.41446782, 2.15209158,\n",
              "       1.1512995 , 0.73683168, 0.15803218, 0.25308168, 0.3410396 ,\n",
              "       0.74288366, 0.1812005 , 0.66613861, 1.50743812, 0.39212871,\n",
              "       0.4009901 , 0.5990099 , 3.09405941, 1.32337871, 0.52519802,\n",
              "       1.62183168, 0.73683168, 0.7489604 , 0.61545792, 0.55623762,\n",
              "       0.56678218, 0.45149752, 0.46579208, 0.77351485, 0.66040842,\n",
              "       0.4950495 , 0.46579208, 0.45623762, 0.64336634, 0.70694307,\n",
              "       0.22222772, 1.23584158, 0.65470297, 0.1872401 , 0.63212871,\n",
              "       0.77351485, 0.06064356, 0.09584158, 0.43278465, 1.35595297,\n",
              "       1.26732673, 1.01941832, 0.43742574, 0.68930693, 0.54579208,\n",
              "       0.64902228, 0.39212871, 0.19337871, 1.04803218, 0.17232673,\n",
              "       0.67189356, 0.30118812, 0.54579208, 0.08941832, 0.71287129,\n",
              "       0.27476485, 0.14704208, 0.4190099 , 0.37902228, 0.22891089,\n",
              "       0.19961634, 0.58278465, 0.44678218, 0.44209158, 0.6099505 ,\n",
              "       0.52519802, 1.24367574, 0.68347772, 0.19961634, 0.47544554,\n",
              "       0.35767327, 0.7010396 , 0.47544554, 0.46579208, 0.66040842,\n",
              "       0.4099505 , 0.75506188, 3.09405941, 3.09405941, 0.58278465,\n",
              "       1.10644802, 0.21892327, 1.37238861, 1.36415842, 1.01941832,\n",
              "       1.74970297, 0.06415842, 0.34930693, 0.62654703, 0.55100248,\n",
              "       0.51001238, 1.04084158, 0.61545792, 0.50001238, 0.77351485,\n",
              "       0.23912129, 0.16367574, 0.65470297, 0.23569307, 0.5150495 ,\n",
              "       0.96337871, 0.5150495 , 0.6099505 , 1.06975248, 0.98420792,\n",
              "       0.33694307, 2.55094059, 0.22555693, 1.38064356, 0.93595297,\n",
              "       1.72189356, 0.4950495 , 0.37902228, 0.65470297, 0.22222772,\n",
              "       0.64336634, 1.62183168, 0.45149752, 0.32882426, 0.19961634,\n",
              "       0.71882426, 0.30118812, 0.93595297, 0.59357673, 0.66040842,\n",
              "       0.28971535, 0.30118812, 0.86257426, 0.06961634, 2.37430693,\n",
              "       0.84955446, 1.17405941, 1.69430693, 1.04084158, 0.0852599 ,\n",
              "       0.03094059, 0.37040842, 0.13386139, 0.32080446, 2.94732673,\n",
              "       0.69516089, 2.9112005 , 0.5990099 , 0.58278465, 0.48519802,\n",
              "       1.04803218, 0.57742574, 0.21238861, 1.19704208, 0.76118812,\n",
              "       0.46579208, 0.6099505 , 1.50743812, 0.47060644, 0.79219059,\n",
              "       0.08732673, 0.30118812, 0.46579208, 0.54579208, 0.34930693,\n",
              "       0.27846535, 0.71287129, 0.09584158, 0.69516089, 0.5150495 ,\n",
              "       0.30118812, 0.6099505 , 1.85357673, 0.76118812, 3.09405941,\n",
              "       0.58278465, 0.32080446, 0.46100248, 0.7010396 ])"
            ]
          },
          "metadata": {
            "tags": []
          }
        }
      ]
    },
    {
      "cell_type": "markdown",
      "metadata": {
        "id": "DJchCFqRSq2P"
      },
      "source": [
        "## 3. Regularized Linear Regression\n",
        "\n",
        "Now, you'll use the [scikit-learn](https://scikit-learn.org/stable/index.html) to implement [Linear Regression](https://scikit-learn.org/stable/modules/generated/sklearn.linear_model.LinearRegression.html), [Ridge](https://scikit-learn.org/stable/modules/generated/sklearn.linear_model.Ridge.html#sklearn.linear_model.Ridge), [Lasso](https://scikit-learn.org/stable/modules/generated/sklearn.linear_model.Lasso.html#sklearn.linear_model.Lasso), [Elastic Net](https://scikit-learn.org/stable/modules/generated/sklearn.linear_model.ElasticNet.html#sklearn.linear_model.ElasticNet) and apply them to Boston house pricing dataset (provided in part 2). Try out different values of regularization coefficient (known as alpha in scikit-learn) and use the [Mean Squared Error](https://scikit-learn.org/stable/modules/generated/sklearn.metrics.mean_squared_error.html) to report loss with each regression. Finally, plot the regularization coefficients alpha (x-axis) with learned parameters $\\theta$ (y-axis) for Ridge and Lasso. Please read [this blog](https://scienceloft.com/technical/understanding-lasso-and-ridge-regression/) to get better understanding of the desired plots."
      ]
    },
    {
      "cell_type": "code",
      "metadata": {
        "id": "ObXXO4jgSq2P"
      },
      "source": [
        "from sklearn.linear_model import LinearRegression\n",
        "from sklearn.linear_model import Ridge\n",
        "from sklearn.linear_model import Lasso\n",
        "from sklearn.linear_model import ElasticNet\n",
        "from sklearn.metrics import mean_squared_error"
      ],
      "execution_count": null,
      "outputs": []
    },
    {
      "cell_type": "code",
      "metadata": {
        "id": "-EkhWoEiSq2S"
      },
      "source": [
        "''' Start your code of part 3 from here, add the new code cells as per your requirement. '''"
      ],
      "execution_count": null,
      "outputs": []
    },
    {
      "cell_type": "code",
      "metadata": {
        "id": "Xgbf8IGfSq2V"
      },
      "source": [
        ""
      ],
      "execution_count": null,
      "outputs": []
    }
  ]
}